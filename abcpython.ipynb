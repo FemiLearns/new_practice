{
 "cells": [
  {
   "cell_type": "code",
   "execution_count": null,
   "id": "a59fde91",
   "metadata": {
    "vscode": {
     "languageId": "plaintext"
    }
   },
   "outputs": [],
   "source": [
    "print(\"hello world i am learning python\")\n"
   ]
  },
  {
   "cell_type": "markdown",
   "id": "e02614fc",
   "metadata": {},
   "source": [
    "print(\"hello world i am learning python\")\n"
   ]
  }
 ],
 "metadata": {
  "language_info": {
   "name": "python"
  }
 },
 "nbformat": 4,
 "nbformat_minor": 5
}
